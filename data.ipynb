{
 "cells": [
  {
   "cell_type": "code",
   "execution_count": 54,
   "id": "23af6491-837c-4b66-ab22-c530dc99c770",
   "metadata": {},
   "outputs": [],
   "source": [
    "import csv\n",
    "data = list(csv.reader(open(\"student data.csv\",\"r\")))\n",
    "student_data = data[1:]\n",
    "for i in student_data:\n",
    "    total = int(i[2])+int(i[3])+int(i[4])\n",
    "    percentage = round(((total/300)*100),2)\n",
    "    i.append(total)\n",
    "    i.append(f\"{percentage}%\")\n",
    "    if percentage >= 90:\n",
    "        i.append(\"A\")\n",
    "    elif percentage < 90 and percentage >= 80:\n",
    "        i.append(\"B\")\n",
    "    elif percentage < 80 and percentage >= 70:\n",
    "        i.append(\"C\")\n",
    "    elif percentage < 70 and percentage >= 60:\n",
    "        i.append(\"D\")\n",
    "    else:\n",
    "        i.append(\"F\")\n",
    "\n",
    "data[0].append(\"Total\")\n",
    "data[0].append(\"Percentage\")\n",
    "data[0].append(\"Grade\")\n",
    "\n",
    "chemistry_marks = [int(i[2]) for i in student_data]\n",
    "physics_marks = [int(i[3]) for i in student_data]\n",
    "maths_marks = [int(i[4]) for i in student_data]\n",
    "\n",
    "\n",
    "data.append([\"\" ,\"\" , sum(chemistry_marks)/len(chemistry_marks), sum(physics_marks)/len(physics_marks), sum(maths_marks)/len(maths_marks)])"
   ]
  },
  {
   "cell_type": "code",
   "execution_count": 55,
   "id": "393e656c-1d8d-4925-9a2f-ed0dbde3f882",
   "metadata": {},
   "outputs": [
    {
     "data": {
      "text/plain": [
       "[['roll no',\n",
       "  'Name',\n",
       "  'Chemistry',\n",
       "  'Physics',\n",
       "  'Math',\n",
       "  'Total',\n",
       "  'Percentage',\n",
       "  'Grade'],\n",
       " ['101', 'Aliza', '50', '23', '87', 160, '53.33%', 'F'],\n",
       " ['102', 'Fareed', '45', '24', '88', 157, '52.33%', 'F'],\n",
       " ['103', 'Basit', '46', '25', '89', 160, '53.33%', 'F'],\n",
       " ['104', 'Abdullah', '47', '26', '90', 163, '54.33%', 'F'],\n",
       " ['105', 'Ali', '48', '27', '67', 142, '47.33%', 'F'],\n",
       " ['106', 'Mubashir', '49', '28', '68', 145, '48.33%', 'F'],\n",
       " ['107', 'Waleed', '50', '29', '69', 148, '49.33%', 'F'],\n",
       " ['108', 'Mansoor', '51', '30', '70', 151, '50.33%', 'F'],\n",
       " ['109', 'Zain', '52', '31', '71', 154, '51.33%', 'F'],\n",
       " ['110', 'Mohsin', '53', '67', '72', 192, '64.0%', 'D'],\n",
       " ['111', 'Shahmeer', '54', '68', '73', 195, '65.0%', 'D'],\n",
       " ['112', 'Rao', '55', '69', '74', 198, '66.0%', 'D'],\n",
       " ['113', 'Aurangzeb', '56', '70', '75', 201, '67.0%', 'D'],\n",
       " ['114', 'Zeeshan', '57', '71', '76', 204, '68.0%', 'D'],\n",
       " ['115', 'Hamna', '58', '72', '77', 207, '69.0%', 'D'],\n",
       " ['116', 'Hamza', '59', '73', '78', 210, '70.0%', 'C'],\n",
       " ['117', 'Khalid', '60', '74', '79', 213, '71.0%', 'C'],\n",
       " ['118', 'Behroz', '61', '75', '80', 216, '72.0%', 'C'],\n",
       " ['119', 'Justin', '62', '76', '81', 219, '73.0%', 'C'],\n",
       " ['120', 'Danish', '63', '77', '82', 222, '74.0%', 'C'],\n",
       " ['121', 'Kainat', '64', '78', '83', 225, '75.0%', 'C'],\n",
       " ['122', 'Sameer', '65', '79', '84', 228, '76.0%', 'C'],\n",
       " ['123', 'Raza', '66', '80', '85', 231, '77.0%', 'C'],\n",
       " ['124', 'Kumar', '67', '81', '86', 234, '78.0%', 'C'],\n",
       " ['125', 'Komal', '68', '82', '87', 237, '79.0%', 'C'],\n",
       " ['126', 'Erum', '69', '83', '88', 240, '80.0%', 'B'],\n",
       " ['127', 'Faiza', '70', '84', '89', 243, '81.0%', 'B'],\n",
       " ['128', 'Saeed', '71', '85', '90', 246, '82.0%', 'B'],\n",
       " ['129', 'Waqar', '72', '86', '91', 249, '83.0%', 'B'],\n",
       " ['130', 'Wali', '73', '87', '92', 252, '84.0%', 'B'],\n",
       " ['131', 'Wajid', '74', '88', '93', 255, '85.0%', 'B'],\n",
       " ['132', 'Waseeb', '75', '89', '94', 258, '86.0%', 'B'],\n",
       " ['133', 'Shiza', '76', '90', '95', 261, '87.0%', 'B'],\n",
       " ['134', 'Shabina', '77', '91', '96', 264, '88.0%', 'B'],\n",
       " ['135', 'Shazain', '78', '55', '97', 230, '76.67%', 'C'],\n",
       " ['136', 'Lubna', '79', '61', '98', 238, '79.33%', 'C'],\n",
       " ['137', 'Laiba', '80', '88', '78', 246, '82.0%', 'B'],\n",
       " ['138', 'Khursheed', '81', '56', '45', 182, '60.67%', 'D'],\n",
       " ['139', 'Ali', '82', '89', '46', 217, '72.33%', 'C'],\n",
       " ['140', 'Aiza', '83', '45', '89', 217, '72.33%', 'C'],\n",
       " ['141', 'Aiman', '84', '92', '78', 254, '84.67%', 'B'],\n",
       " ['142', 'Yasmeen', '85', '36', '56', 177, '59.0%', 'F'],\n",
       " ['143', 'Tasbeel', '86', '78', '78', 242, '80.67%', 'B'],\n",
       " ['144', 'Laraib', '87', '56', '54', 197, '65.67%', 'D'],\n",
       " ['145', 'Saleem', '88', '78', '78', 244, '81.33%', 'B'],\n",
       " ['146', 'Bismil', '89', '89', '46', 224, '74.67%', 'C'],\n",
       " ['147', 'Batool', '90', '56', '79', 225, '75.0%', 'C'],\n",
       " ['148', 'Iqra', '91', '33', '46', 170, '56.67%', 'F'],\n",
       " ['149', 'Zarnish', '92', '78', '45', 215, '71.67%', 'C'],\n",
       " ['150', 'Zara', '83', '45', '56', 184, '61.33%', 'D'],\n",
       " ['', '', 68.42, 65.06, 77.36]]"
      ]
     },
     "execution_count": 55,
     "metadata": {},
     "output_type": "execute_result"
    }
   ],
   "source": [
    "data"
   ]
  },
  {
   "cell_type": "code",
   "execution_count": 79,
   "id": "8ad3b0eb-99bb-473b-acdc-901d93ef1793",
   "metadata": {},
   "outputs": [],
   "source": [
    "new_file = open(\"updated.csv\",\"w\",newline='0')\n",
    "writer = list(csv.reader(new_file)"
   ]
  },
  {
   "cell_type": "code",
   "execution_count": 80,
   "id": "081adf6b-9e67-4114-ba11-c1c230e62f9b",
   "metadata": {},
   "outputs": [
    {
     "data": {
      "text/plain": [
       "[]"
      ]
     },
     "execution_count": 80,
     "metadata": {},
     "output_type": "execute_result"
    }
   ],
   "source": [
    "writer"
   ]
  },
  {
   "cell_type": "code",
   "execution_count": 62,
   "id": "e7f96d02-efb4-48ff-8578-94d35020ad6d",
   "metadata": {},
   "outputs": [],
   "source": [
    "writer.writerows(data)"
   ]
  },
  {
   "cell_type": "code",
   "execution_count": 63,
   "id": "476a3c58-1a8c-439e-a408-f6cb02c4db05",
   "metadata": {},
   "outputs": [],
   "source": [
    "new_file.close()"
   ]
  },
  {
   "cell_type": "code",
   "execution_count": null,
   "id": "6f597f46-a837-4740-b835-b66f971f2316",
   "metadata": {},
   "outputs": [],
   "source": []
  }
 ],
 "metadata": {
  "kernelspec": {
   "display_name": "Python 3 (ipykernel)",
   "language": "python",
   "name": "python3"
  },
  "language_info": {
   "codemirror_mode": {
    "name": "ipython",
    "version": 3
   },
   "file_extension": ".py",
   "mimetype": "text/x-python",
   "name": "python",
   "nbconvert_exporter": "python",
   "pygments_lexer": "ipython3",
   "version": "3.12.4"
  }
 },
 "nbformat": 4,
 "nbformat_minor": 5
}
